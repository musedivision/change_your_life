{
 "cells": [
  {
   "cell_type": "markdown",
   "metadata": {},
   "source": [
    "# 🔥🔥🔥"
   ]
  },
  {
   "cell_type": "markdown",
   "metadata": {},
   "source": [
    "## libs"
   ]
  },
  {
   "cell_type": "code",
   "execution_count": 1,
   "metadata": {},
   "outputs": [],
   "source": [
    "from pathlib import Path\n",
    "from IPython.display import display, FileLink, FileLinks\n",
    "from ipyupload import FileUpload\n",
    "\n",
    "# my file\n",
    "from helper_utils import * "
   ]
  },
  {
   "cell_type": "code",
   "execution_count": 2,
   "metadata": {},
   "outputs": [],
   "source": [
    "path = Path('./data')"
   ]
  },
  {
   "cell_type": "code",
   "execution_count": 3,
   "metadata": {},
   "outputs": [],
   "source": [
    "invertory_hospitatity = getFileUpload()\n",
    "catalogues_android = getFileUpload()\n",
    "item_category = getFileUpload()\n",
    "just_item = getFileUpload()"
   ]
  },
  {
   "cell_type": "markdown",
   "metadata": {},
   "source": [
    "# Please upload the files katoche"
   ]
  },
  {
   "cell_type": "code",
   "execution_count": 4,
   "metadata": {},
   "outputs": [
    {
     "name": "stdout",
     "output_type": "stream",
     "text": [
      "invertory_hospitatity : xml\n"
     ]
    },
    {
     "data": {
      "application/vnd.jupyter.widget-view+json": {
       "model_id": "fc9b7c17f5ae4bb28dab5da6a8e789fa",
       "version_major": 2,
       "version_minor": 0
      },
      "text/plain": [
       "FileUpload()"
      ]
     },
     "metadata": {},
     "output_type": "display_data"
    },
    {
     "name": "stdout",
     "output_type": "stream",
     "text": [
      "item_category import : csv \n"
     ]
    },
    {
     "data": {
      "application/vnd.jupyter.widget-view+json": {
       "model_id": "247e1b00ae5146f2a6f87f4337a7b13b",
       "version_major": 2,
       "version_minor": 0
      },
      "text/plain": [
       "FileUpload()"
      ]
     },
     "metadata": {},
     "output_type": "display_data"
    },
    {
     "name": "stdout",
     "output_type": "stream",
     "text": [
      "item import : csv\n"
     ]
    },
    {
     "data": {
      "application/vnd.jupyter.widget-view+json": {
       "model_id": "a47215d24fee43bc9f3d601f462d5212",
       "version_major": 2,
       "version_minor": 0
      },
      "text/plain": [
       "FileUpload()"
      ]
     },
     "metadata": {},
     "output_type": "display_data"
    }
   ],
   "source": [
    "print('invertory_hospitatity : xml')\n",
    "display(invertory_hospitatity)\n",
    "print('item_category import : csv ')\n",
    "display(item_category)\n",
    "print('item import : csv')\n",
    "display(just_item)"
   ]
  },
  {
   "cell_type": "markdown",
   "metadata": {},
   "source": [
    "# load data and do all the transformations on it"
   ]
  },
  {
   "cell_type": "code",
   "execution_count": 5,
   "metadata": {},
   "outputs": [],
   "source": [
    "sku_inventory = parse_inventory_xml(upload2str(invertory_hospitatity))\n",
    "item_cat_df = pd.read_csv(uploadFileObject(item_category));\n",
    "item_df = pd.read_csv(uploadFileObject(just_item));"
   ]
  },
  {
   "cell_type": "code",
   "execution_count": 6,
   "metadata": {},
   "outputs": [],
   "source": [
    "df = merge_katoche_dfs(item_cat_df, item_df, sku_inventory)"
   ]
  },
  {
   "cell_type": "code",
   "execution_count": 7,
   "metadata": {},
   "outputs": [
    {
     "data": {
      "text/html": [
       "<div>\n",
       "<style scoped>\n",
       "    .dataframe tbody tr th:only-of-type {\n",
       "        vertical-align: middle;\n",
       "    }\n",
       "\n",
       "    .dataframe tbody tr th {\n",
       "        vertical-align: top;\n",
       "    }\n",
       "\n",
       "    .dataframe thead th {\n",
       "        text-align: right;\n",
       "    }\n",
       "</style>\n",
       "<table border=\"1\" class=\"dataframe\">\n",
       "  <thead>\n",
       "    <tr style=\"text-align: right;\">\n",
       "      <th></th>\n",
       "      <th>item_name</th>\n",
       "      <th>item_sku</th>\n",
       "      <th>nzd_price</th>\n",
       "      <th>category_name</th>\n",
       "      <th>inventory_total</th>\n",
       "      <th>opening_availability</th>\n",
       "    </tr>\n",
       "  </thead>\n",
       "  <tbody>\n",
       "    <tr>\n",
       "      <th>0</th>\n",
       "      <td>42 Below Vodka - BP free</td>\n",
       "      <td>10565</td>\n",
       "      <td>0.0</td>\n",
       "      <td>All Food and Drink - Long Haul - BP</td>\n",
       "      <td>99</td>\n",
       "      <td>Yes</td>\n",
       "    </tr>\n",
       "    <tr>\n",
       "      <th>1</th>\n",
       "      <td>42 Below Vodka - BP free</td>\n",
       "      <td>10565</td>\n",
       "      <td>0.0</td>\n",
       "      <td>The Bar - Long-Haul - BP</td>\n",
       "      <td>99</td>\n",
       "      <td>Yes</td>\n",
       "    </tr>\n",
       "    <tr>\n",
       "      <th>2</th>\n",
       "      <td>42 Below Vodka - BP free</td>\n",
       "      <td>10565</td>\n",
       "      <td>0.0</td>\n",
       "      <td>The Bar - Short-Haul - BP</td>\n",
       "      <td>99</td>\n",
       "      <td>Yes</td>\n",
       "    </tr>\n",
       "    <tr>\n",
       "      <th>3</th>\n",
       "      <td>Angus Beef Mince &amp; Mozzarella Pie</td>\n",
       "      <td>143</td>\n",
       "      <td>10.0</td>\n",
       "      <td>All Food and Drink - Short Haul - Seats</td>\n",
       "      <td>0</td>\n",
       "      <td>No</td>\n",
       "    </tr>\n",
       "    <tr>\n",
       "      <th>4</th>\n",
       "      <td>Angus Beef Mince &amp; Mozzarella Pie</td>\n",
       "      <td>143</td>\n",
       "      <td>10.0</td>\n",
       "      <td>All Food and Drink - Short Haul - Works</td>\n",
       "      <td>0</td>\n",
       "      <td>No</td>\n",
       "    </tr>\n",
       "  </tbody>\n",
       "</table>\n",
       "</div>"
      ],
      "text/plain": [
       "                           item_name  item_sku  nzd_price  \\\n",
       "0           42 Below Vodka - BP free     10565        0.0   \n",
       "1           42 Below Vodka - BP free     10565        0.0   \n",
       "2           42 Below Vodka - BP free     10565        0.0   \n",
       "3  Angus Beef Mince & Mozzarella Pie       143       10.0   \n",
       "4  Angus Beef Mince & Mozzarella Pie       143       10.0   \n",
       "\n",
       "                             category_name  inventory_total  \\\n",
       "0      All Food and Drink - Long Haul - BP               99   \n",
       "1                 The Bar - Long-Haul - BP               99   \n",
       "2                The Bar - Short-Haul - BP               99   \n",
       "3  All Food and Drink - Short Haul - Seats                0   \n",
       "4  All Food and Drink - Short Haul - Works                0   \n",
       "\n",
       "  opening_availability  \n",
       "0                  Yes  \n",
       "1                  Yes  \n",
       "2                  Yes  \n",
       "3                   No  \n",
       "4                   No  "
      ]
     },
     "execution_count": 7,
     "metadata": {},
     "output_type": "execute_result"
    }
   ],
   "source": [
    "df.head()"
   ]
  },
  {
   "cell_type": "markdown",
   "metadata": {},
   "source": [
    "# Download output"
   ]
  },
  {
   "cell_type": "code",
   "execution_count": 9,
   "metadata": {},
   "outputs": [
    {
     "data": {
      "text/html": [
       "output/<br>\n",
       "&nbsp;&nbsp;<a href='output/active_hospo_catalogue.xlsx' target='_blank'>active_hospo_catalogue.xlsx</a><br>"
      ],
      "text/plain": [
       "output/\n",
       "  active_hospo_catalogue.xlsx"
      ]
     },
     "execution_count": 9,
     "metadata": {},
     "output_type": "execute_result"
    }
   ],
   "source": [
    "make_excel_download(df)"
   ]
  },
  {
   "cell_type": "markdown",
   "metadata": {},
   "source": [
    "# 🌈🌈🌈🌈🌈🌈🌈"
   ]
  }
 ],
 "metadata": {
  "kernelspec": {
   "display_name": "Python 3",
   "language": "python",
   "name": "python3"
  },
  "language_info": {
   "codemirror_mode": {
    "name": "ipython",
    "version": 3
   },
   "file_extension": ".py",
   "mimetype": "text/x-python",
   "name": "python",
   "nbconvert_exporter": "python",
   "pygments_lexer": "ipython3",
   "version": "3.6.6"
  }
 },
 "nbformat": 4,
 "nbformat_minor": 2
}
